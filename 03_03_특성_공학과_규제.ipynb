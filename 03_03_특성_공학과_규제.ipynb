{
  "nbformat": 4,
  "nbformat_minor": 0,
  "metadata": {
    "colab": {
      "provenance": [],
      "authorship_tag": "ABX9TyNWEaeLbzWo8C+jPckMm3fB",
      "include_colab_link": true
    },
    "kernelspec": {
      "name": "python3",
      "display_name": "Python 3"
    },
    "language_info": {
      "name": "python"
    }
  },
  "cells": [
    {
      "cell_type": "markdown",
      "metadata": {
        "id": "view-in-github",
        "colab_type": "text"
      },
      "source": [
        "<a href=\"https://colab.research.google.com/github/yyaallpp-naver-com/1-/blob/main/03_03_%ED%8A%B9%EC%84%B1_%EA%B3%B5%ED%95%99%EA%B3%BC_%EA%B7%9C%EC%A0%9C.ipynb\" target=\"_parent\"><img src=\"https://colab.research.google.com/assets/colab-badge.svg\" alt=\"Open In Colab\"/></a>"
      ]
    },
    {
      "cell_type": "markdown",
      "source": [
        "## 다중 회귀\n",
        "\n",
        ":여러 개의 특성을 사용한 선형 회귀<br>\n",
        "특성이 2개면 타깃 값과 함께 3차원 공간을 형성 -> 선형 회귀 방정식은 **평면**이 된다.<br>\n",
        "'타깃 = a * 특성1 + b * 특성2 + 절편'\n"
      ],
      "metadata": {
        "id": "Yj0RyMqbeXFo"
      }
    },
    {
      "cell_type": "markdown",
      "source": [
        "\n",
        "**특성 공학(feature engineering)**\n",
        ": 기존의 특성을 사용해 새로운 특성을 뽑아내는 작업"
      ],
      "metadata": {
        "id": "J7bHoqzqsJZH"
      }
    },
    {
      "cell_type": "markdown",
      "source": [
        "##데이터 준비"
      ],
      "metadata": {
        "id": "lzt8l7t_ecZD"
      }
    },
    {
      "cell_type": "code",
      "execution_count": 1,
      "metadata": {
        "colab": {
          "base_uri": "https://localhost:8080/"
        },
        "id": "jHjaWFxdeR2O",
        "outputId": "a2721f64-96d1-4249-d23f-77b13b3638ea"
      },
      "outputs": [
        {
          "output_type": "stream",
          "name": "stdout",
          "text": [
            "[[ 8.4   2.11  1.41]\n",
            " [13.7   3.53  2.  ]\n",
            " [15.    3.82  2.43]\n",
            " [16.2   4.59  2.63]\n",
            " [17.4   4.59  2.94]\n",
            " [18.    5.22  3.32]\n",
            " [18.7   5.2   3.12]\n",
            " [19.    5.64  3.05]\n",
            " [19.6   5.14  3.04]\n",
            " [20.    5.08  2.77]\n",
            " [21.    5.69  3.56]\n",
            " [21.    5.92  3.31]\n",
            " [21.    5.69  3.67]\n",
            " [21.3   6.38  3.53]\n",
            " [22.    6.11  3.41]\n",
            " [22.    5.64  3.52]\n",
            " [22.    6.11  3.52]\n",
            " [22.    5.88  3.52]\n",
            " [22.    5.52  4.  ]\n",
            " [22.5   5.86  3.62]\n",
            " [22.5   6.79  3.62]\n",
            " [22.7   5.95  3.63]\n",
            " [23.    5.22  3.63]\n",
            " [23.5   6.28  3.72]\n",
            " [24.    7.29  3.72]\n",
            " [24.    6.38  3.82]\n",
            " [24.6   6.73  4.17]\n",
            " [25.    6.44  3.68]\n",
            " [25.6   6.56  4.24]\n",
            " [26.5   7.17  4.14]\n",
            " [27.3   8.32  5.14]\n",
            " [27.5   7.17  4.34]\n",
            " [27.5   7.05  4.34]\n",
            " [27.5   7.28  4.57]\n",
            " [28.    7.82  4.2 ]\n",
            " [28.7   7.59  4.64]\n",
            " [30.    7.62  4.77]\n",
            " [32.8  10.03  6.02]\n",
            " [34.5  10.26  6.39]\n",
            " [35.   11.49  7.8 ]\n",
            " [36.5  10.88  6.86]\n",
            " [36.   10.61  6.74]\n",
            " [37.   10.84  6.26]\n",
            " [37.   10.57  6.37]\n",
            " [39.   11.14  7.49]\n",
            " [39.   11.14  6.  ]\n",
            " [39.   12.43  7.35]\n",
            " [40.   11.93  7.11]\n",
            " [40.   11.73  7.22]\n",
            " [40.   12.38  7.46]\n",
            " [40.   11.14  6.63]\n",
            " [42.   12.8   6.87]\n",
            " [43.   11.93  7.28]\n",
            " [43.   12.51  7.42]\n",
            " [43.5  12.6   8.14]\n",
            " [44.   12.49  7.6 ]]\n"
          ]
        }
      ],
      "source": [
        "#판다스를 사용\n",
        "import pandas as pd #pd는 관례적으로 사용하는 판다스의 별칭입니다\n",
        "df = pd.read_csv('https://bit.ly/perch_csv') #파일을 판다스에서 읽고 데이터 프레임 만들기\n",
        "perch_full = df.to_numpy() #넘파이 배열로 변환\n",
        "print(perch_full)"
      ]
    },
    {
      "cell_type": "code",
      "source": [
        "#타깃 데이터 준비\n",
        "import numpy as np\n",
        "perch_length = np.array([8.4, 13.7, 15.0, 16.2, 17.4, 18.0, 18.7, 19.0, 19.6, 20.0, 21.0,\n",
        "       21.0, 21.0, 21.3, 22.0, 22.0, 22.0, 22.0, 22.0, 22.5, 22.5, 22.7,\n",
        "       23.0, 23.5, 24.0, 24.0, 24.6, 25.0, 25.6, 26.5, 27.3, 27.5, 27.5,\n",
        "       27.5, 28.0, 28.7, 30.0, 32.8, 34.5, 35.0, 36.5, 36.0, 37.0, 37.0,\n",
        "       39.0, 39.0, 39.0, 40.0, 40.0, 40.0, 40.0, 42.0, 43.0, 43.0, 43.5,\n",
        "       44.0])\n",
        "perch_weight = np.array([5.9, 32.0, 40.0, 51.5, 70.0, 100.0, 78.0, 80.0, 85.0, 85.0, 110.0,\n",
        "       115.0, 125.0, 130.0, 120.0, 120.0, 130.0, 135.0, 110.0, 130.0,\n",
        "       150.0, 145.0, 150.0, 170.0, 225.0, 145.0, 188.0, 180.0, 197.0,\n",
        "       218.0, 300.0, 260.0, 265.0, 250.0, 250.0, 300.0, 320.0, 514.0,\n",
        "       556.0, 840.0, 685.0, 700.0, 700.0, 690.0, 900.0, 650.0, 820.0,\n",
        "       850.0, 900.0, 1015.0, 820.0, 1100.0, 1000.0, 1100.0, 1000.0,\n",
        "       1000.0])"
      ],
      "metadata": {
        "id": "aBIAaeOdeu2R"
      },
      "execution_count": 2,
      "outputs": []
    },
    {
      "cell_type": "code",
      "source": [
        "# 훈련세트와 테스트세트로 나누기\n",
        "from sklearn.model_selection import train_test_split\n",
        "train_input, test_input, train_target, test_target = train_test_split(\n",
        "    perch_full, perch_weight, random_state=42)"
      ],
      "metadata": {
        "id": "_DQSrTW4fBA3"
      },
      "execution_count": 3,
      "outputs": []
    },
    {
      "cell_type": "markdown",
      "source": [
        "##사이킷런의 변환기"
      ],
      "metadata": {
        "id": "5x3qUkaAfn-S"
      }
    },
    {
      "cell_type": "markdown",
      "source": [
        "사이킷런은 특성을 만들거나 전처리하기 위한 다양한 클래스를 제공.\n",
        "이러한 클래스를 **변환기(transformer)**라고 부름\n",
        "\n",
        "변환기 클래스는 fit(), transform()메서드 사용"
      ],
      "metadata": {
        "id": "6SQKO4Nbv2Ru"
      }
    },
    {
      "cell_type": "code",
      "source": [
        "#polynomialFeatures 클래스를 사용\n",
        "from sklearn.preprocessing import PolynomialFeatures"
      ],
      "metadata": {
        "id": "ONw86kXifmgj"
      },
      "execution_count": 4,
      "outputs": []
    },
    {
      "cell_type": "code",
      "source": [
        "#클래스의 객체를 만든다음 fit(), transform() 메서드 차례로 호출\n",
        "poly = PolynomialFeatures()\n",
        "poly.fit([[2, 3]]) #새롭게 만들 특성 조합을 찾음\n",
        "print(poly.transform([[2, 3]])) #실제로 데이터를 변환"
      ],
      "metadata": {
        "colab": {
          "base_uri": "https://localhost:8080/"
        },
        "id": "LcAoTm04fcRu",
        "outputId": "9303dc26-b850-4df5-c340-6071ee07cc4d"
      },
      "execution_count": 5,
      "outputs": [
        {
          "output_type": "stream",
          "name": "stdout",
          "text": [
            "[[1. 2. 3. 4. 6. 9.]]\n"
          ]
        }
      ]
    },
    {
      "cell_type": "markdown",
      "source": [
        "무게 =  a * 길이 + b * 높이 + c * 두께 + d * 1\n",
        "\n",
        "특성은 (길이, 높이, 두께, 1)"
      ],
      "metadata": {
        "id": "BfGsj61fxR9a"
      }
    },
    {
      "cell_type": "code",
      "source": [
        "#절편을 위한 항 제거해서 만들기\n",
        "poly = PolynomialFeatures(include_bias=False)\n",
        "poly.fit([[2,3]])\n",
        "print(poly.transform([[2, 3]]))"
      ],
      "metadata": {
        "colab": {
          "base_uri": "https://localhost:8080/"
        },
        "id": "Yv8Doo8mgGk4",
        "outputId": "671fa1b1-6a76-44fe-f512-48dcec00db11"
      },
      "execution_count": 6,
      "outputs": [
        {
          "output_type": "stream",
          "name": "stdout",
          "text": [
            "[[2. 3. 4. 6. 9.]]\n"
          ]
        }
      ]
    },
    {
      "cell_type": "code",
      "source": [
        "#이 방식을 train_input에 적용\n",
        "poly = PolynomialFeatures(include_bias=False)\n",
        "poly.fit(train_input)\n",
        "train_poly = poly.transform(train_input) #변환한 데이터를 train_poly에 저장\n",
        "print(train_poly.shape) #배열의 크기 확인"
      ],
      "metadata": {
        "colab": {
          "base_uri": "https://localhost:8080/"
        },
        "id": "P1cuwSf0gVYp",
        "outputId": "c8d9017e-56af-46ae-8faa-7d5cfec41a80"
      },
      "execution_count": 7,
      "outputs": [
        {
          "output_type": "stream",
          "name": "stdout",
          "text": [
            "(42, 9)\n"
          ]
        }
      ]
    },
    {
      "cell_type": "code",
      "source": [
        "poly.get_feature_names_out() #9개의 특성이 어떻게 만들어 졌는지 확인"
      ],
      "metadata": {
        "colab": {
          "base_uri": "https://localhost:8080/"
        },
        "id": "M-vpREMug0pV",
        "outputId": "3d4ea4a0-45e4-421b-8f73-95db82696822"
      },
      "execution_count": 8,
      "outputs": [
        {
          "output_type": "execute_result",
          "data": {
            "text/plain": [
              "array(['x0', 'x1', 'x2', 'x0^2', 'x0 x1', 'x0 x2', 'x1^2', 'x1 x2',\n",
              "       'x2^2'], dtype=object)"
            ]
          },
          "metadata": {},
          "execution_count": 8
        }
      ]
    },
    {
      "cell_type": "code",
      "source": [
        "#테스트 세트도 변환\n",
        "test_poly = poly.transform(test_input)"
      ],
      "metadata": {
        "id": "OqfIOsxxhvvJ"
      },
      "execution_count": 9,
      "outputs": []
    },
    {
      "cell_type": "markdown",
      "source": [
        "##다중 회귀 모델 훈련하기"
      ],
      "metadata": {
        "id": "e4VFLiCkizAk"
      }
    },
    {
      "cell_type": "code",
      "source": [
        "#train_poly 사용해 모델을 훈련\n",
        "from sklearn.linear_model import LinearRegression\n",
        "lr = LinearRegression()\n",
        "lr.fit(train_poly, train_target)\n",
        "print(lr.score(train_poly, train_target)) #훈련 세트 점수 확인"
      ],
      "metadata": {
        "colab": {
          "base_uri": "https://localhost:8080/"
        },
        "id": "HSNQL2Qqg7v-",
        "outputId": "c9bfd456-a78c-47fe-f794-cff54d41ebe6"
      },
      "execution_count": 10,
      "outputs": [
        {
          "output_type": "stream",
          "name": "stdout",
          "text": [
            "0.9903183436982125\n"
          ]
        }
      ]
    },
    {
      "cell_type": "code",
      "source": [
        "#테스트 세트 점수 확인\n",
        "print(lr.score(test_poly, test_target))"
      ],
      "metadata": {
        "colab": {
          "base_uri": "https://localhost:8080/"
        },
        "id": "trEouvXuiuqQ",
        "outputId": "b9713b2f-046c-428c-9bd6-9b9eb6a08228"
      },
      "execution_count": 11,
      "outputs": [
        {
          "output_type": "stream",
          "name": "stdout",
          "text": [
            "0.9714559911594111\n"
          ]
        }
      ]
    },
    {
      "cell_type": "code",
      "source": [
        "#5제곱까지 특성을 만들어 출력\n",
        "poly = PolynomialFeatures(degree=5, include_bias=False)\n",
        "poly.fit(train_input)\n",
        "train_poly = poly.transform(train_input)\n",
        "test_poly = poly.transform(test_input)\n",
        "print(train_poly.shape) #열의 개수가 특성의 개수"
      ],
      "metadata": {
        "colab": {
          "base_uri": "https://localhost:8080/"
        },
        "id": "gitwqFvijJ7Q",
        "outputId": "5c0563ee-e293-4078-d7f8-ae4d3fc1ad54"
      },
      "execution_count": 36,
      "outputs": [
        {
          "output_type": "stream",
          "name": "stdout",
          "text": [
            "(42, 55)\n"
          ]
        }
      ]
    },
    {
      "cell_type": "code",
      "source": [
        "poly.get_feature_names_out() #만들어진 특성 확인"
      ],
      "metadata": {
        "colab": {
          "base_uri": "https://localhost:8080/"
        },
        "id": "bqWwKs6Uz0PS",
        "outputId": "59dc9865-a019-495b-9807-76fdf3e32b70"
      },
      "execution_count": 37,
      "outputs": [
        {
          "output_type": "execute_result",
          "data": {
            "text/plain": [
              "array(['x0', 'x1', 'x2', 'x0^2', 'x0 x1', 'x0 x2', 'x1^2', 'x1 x2',\n",
              "       'x2^2', 'x0^3', 'x0^2 x1', 'x0^2 x2', 'x0 x1^2', 'x0 x1 x2',\n",
              "       'x0 x2^2', 'x1^3', 'x1^2 x2', 'x1 x2^2', 'x2^3', 'x0^4', 'x0^3 x1',\n",
              "       'x0^3 x2', 'x0^2 x1^2', 'x0^2 x1 x2', 'x0^2 x2^2', 'x0 x1^3',\n",
              "       'x0 x1^2 x2', 'x0 x1 x2^2', 'x0 x2^3', 'x1^4', 'x1^3 x2',\n",
              "       'x1^2 x2^2', 'x1 x2^3', 'x2^4', 'x0^5', 'x0^4 x1', 'x0^4 x2',\n",
              "       'x0^3 x1^2', 'x0^3 x1 x2', 'x0^3 x2^2', 'x0^2 x1^3',\n",
              "       'x0^2 x1^2 x2', 'x0^2 x1 x2^2', 'x0^2 x2^3', 'x0 x1^4',\n",
              "       'x0 x1^3 x2', 'x0 x1^2 x2^2', 'x0 x1 x2^3', 'x0 x2^4', 'x1^5',\n",
              "       'x1^4 x2', 'x1^3 x2^2', 'x1^2 x2^3', 'x1 x2^4', 'x2^5'],\n",
              "      dtype=object)"
            ]
          },
          "metadata": {},
          "execution_count": 37
        }
      ]
    },
    {
      "cell_type": "code",
      "source": [
        "#만들어진 특성을 사용해서 훈련 후 점수 확인\n",
        "lr.fit(train_poly, train_target)\n",
        "print(lr.score(train_poly, train_target))"
      ],
      "metadata": {
        "colab": {
          "base_uri": "https://localhost:8080/"
        },
        "id": "vNVXhWWQjfm9",
        "outputId": "c806d550-f0aa-46fd-975c-df48e3c71106"
      },
      "execution_count": 13,
      "outputs": [
        {
          "output_type": "stream",
          "name": "stdout",
          "text": [
            "0.9999999999996433\n"
          ]
        }
      ]
    },
    {
      "cell_type": "code",
      "source": [
        "#테스트 세트 점수 확인\n",
        "print(lr.score(test_poly, test_target))"
      ],
      "metadata": {
        "colab": {
          "base_uri": "https://localhost:8080/"
        },
        "id": "jt0bPTPCj3sk",
        "outputId": "e917f606-4299-4858-d045-ca334e941350"
      },
      "execution_count": 14,
      "outputs": [
        {
          "output_type": "stream",
          "name": "stdout",
          "text": [
            "-144.40579436844948\n"
          ]
        }
      ]
    },
    {
      "cell_type": "markdown",
      "source": [
        "##규제\n",
        "머신 러닝 모델이 훈련 세트를 과도하게 학습하지 못하도록 훼방 하는 것<br>\n",
        "즉, 모델이 훈련세트에 과대 적합되지 않도록 만드는 것 : 계수(기울기)를 작게 만들기"
      ],
      "metadata": {
        "id": "EreOcfJgkFTi"
      }
    },
    {
      "cell_type": "code",
      "source": [
        "#특성의 스케일이 정규화 되지 않으면 계수값도 차이가 나게되므로, Standard Scaler 사용하여 정규화 진행\n",
        "from sklearn.preprocessing import StandardScaler\n",
        "ss = StandardScaler() #객체 초기화\n",
        "ss.fit(train_poly) #훈련\n",
        "train_scaled = ss.transform(train_poly) #훈련세트 변환\n",
        "test_scaled = ss.transform(test_poly) #테스트세트 변환"
      ],
      "metadata": {
        "id": "VhplhVCfkDzW"
      },
      "execution_count": 15,
      "outputs": []
    },
    {
      "cell_type": "markdown",
      "source": [
        "##릿지 회귀\n",
        "계수를 제곱한 값을 기준으로 규제를 적용\n"
      ],
      "metadata": {
        "id": "1TvtOOpQkw-C"
      }
    },
    {
      "cell_type": "code",
      "source": [
        "#릿지 모델 훈련\n",
        "from sklearn.linear_model import Ridge\n",
        "ridge = Ridge()\n",
        "ridge.fit(train_scaled, train_target) \n",
        "print(ridge.score(train_scaled, train_target)) #점수 조금 낮아짐"
      ],
      "metadata": {
        "colab": {
          "base_uri": "https://localhost:8080/"
        },
        "id": "EdC-ikD4kzuD",
        "outputId": "a46433ba-3cff-4373-8265-45da5c5b34f3"
      },
      "execution_count": 16,
      "outputs": [
        {
          "output_type": "stream",
          "name": "stdout",
          "text": [
            "0.9896101671037343\n"
          ]
        }
      ]
    },
    {
      "cell_type": "code",
      "source": [
        "print(ridge.score(test_scaled, test_target)) #점수 돌아옴"
      ],
      "metadata": {
        "colab": {
          "base_uri": "https://localhost:8080/"
        },
        "id": "22nLCzqMlLmH",
        "outputId": "608ebe2c-ffe4-48c1-a171-71479ee7d7f2"
      },
      "execution_count": 17,
      "outputs": [
        {
          "output_type": "stream",
          "name": "stdout",
          "text": [
            "0.9790693977615387\n"
          ]
        }
      ]
    },
    {
      "cell_type": "markdown",
      "source": [
        "###규제의 강도를 조절하기 위해 alpha 매개변수 사용\n",
        "alpha값이 작으면 계수를 줄이는 역할이 줄어들고 선형회귀 모델과 유사해지므로 과대적합 가능성이 커짐"
      ],
      "metadata": {
        "id": "LfCz43bT283-"
      }
    },
    {
      "cell_type": "markdown",
      "source": [
        "적절한 alpha값을 찾기 위해서 alpha값에 대한 R^2의 그래프 그려보기"
      ],
      "metadata": {
        "id": "j6Rfds3C3XTu"
      }
    },
    {
      "cell_type": "code",
      "source": [
        "#alpha값 바꿀때마다 score()메서드의 결과를 저장할 리스트 만들기\n",
        "import matplotlib.pyplot as plt\n",
        "train_score = []\n",
        "test_score = []"
      ],
      "metadata": {
        "id": "03NFCJF0lsHC"
      },
      "execution_count": 18,
      "outputs": []
    },
    {
      "cell_type": "code",
      "source": [
        "#알파값을 늘려가며 릿지 회귀 모델을 훈련한 후 각 세트의 점수를 파이썬 리스트에 저장\n",
        "alpha_list = [0.001, 0.01, 0.1, 1, 10, 100]\n",
        "for alpha in alpha_list:\n",
        "  #릿지 모델을 만듭니다\n",
        "  ridge = Ridge(alpha=alpha)\n",
        "  #릿지 모델을 훈련합니다\n",
        "  ridge.fit(train_scaled, train_target)\n",
        "  #훈련 점수와 테스트 점수를 저장합니다\n",
        "  train_score.append(ridge.score(train_scaled, train_target))\n",
        "  test_score.append(ridge.score(test_scaled, test_target))"
      ],
      "metadata": {
        "id": "v-RXPi3ll0P9"
      },
      "execution_count": 19,
      "outputs": []
    },
    {
      "cell_type": "code",
      "source": [
        "#그래프 간격 맞추기 위해 로그함수로 바꾸어 지수로 표현\n",
        "plt.plot(np.log10(alpha_list), train_score)\n",
        "plt.plot(np.log10(alpha_list), test_score)\n",
        "plt.show()"
      ],
      "metadata": {
        "colab": {
          "base_uri": "https://localhost:8080/",
          "height": 430
        },
        "id": "dzz-FYKJm2y3",
        "outputId": "640398e5-420b-4e69-cce8-fc92e5e65412"
      },
      "execution_count": 20,
      "outputs": [
        {
          "output_type": "display_data",
          "data": {
            "text/plain": [
              "<Figure size 640x480 with 1 Axes>"
            ],
            "image/png": "[encoded data removed]"
          },
          "metadata": {}
        }
      ]
    },
    {
      "cell_type": "code",
      "source": [
        "#찾은 최적의 alpha값으로 훈련\n",
        "ridge = Ridge(alpha=0.1)\n",
        "ridge.fit(train_scaled, train_target)\n",
        "print(ridge.score(train_scaled, train_target))\n",
        "print(ridge.score(test_scaled, test_target))"
      ],
      "metadata": {
        "colab": {
          "base_uri": "https://localhost:8080/"
        },
        "id": "XOfDrLSgnFD2",
        "outputId": "f098d281-aad8-4598-dd68-4639adace3b3"
      },
      "execution_count": 21,
      "outputs": [
        {
          "output_type": "stream",
          "name": "stdout",
          "text": [
            "0.9903815817570367\n",
            "0.9827976465386928\n"
          ]
        }
      ]
    },
    {
      "cell_type": "markdown",
      "source": [
        "##라쏘 회귀\n",
        "계수의 절댓값을 기준으로 규제를 적용 -> 계수를 0으로 만들어버릴 수 있음"
      ],
      "metadata": {
        "id": "sdMnTzxenoAP"
      }
    },
    {
      "cell_type": "code",
      "source": [
        "from sklearn.linear_model import Lasso\n",
        "lasso = Lasso() #라쏘 모델 만들기\n",
        "lasso.fit(train_scaled, train_target) #라쏘 모델 훈련\n",
        "print(lasso.score(train_scaled, train_target))"
      ],
      "metadata": {
        "colab": {
          "base_uri": "https://localhost:8080/"
        },
        "id": "yuAF9aDznm33",
        "outputId": "aca74315-8cd1-45b0-be4a-3989b2efd0cf"
      },
      "execution_count": 22,
      "outputs": [
        {
          "output_type": "stream",
          "name": "stdout",
          "text": [
            "0.989789897208096\n"
          ]
        }
      ]
    },
    {
      "cell_type": "code",
      "source": [
        "print(lasso.score(test_scaled, test_target))"
      ],
      "metadata": {
        "colab": {
          "base_uri": "https://localhost:8080/"
        },
        "id": "0-LSnMR8nLNO",
        "outputId": "2055fb22-b4f8-49e5-cbb2-24aae12e8d08"
      },
      "execution_count": 23,
      "outputs": [
        {
          "output_type": "stream",
          "name": "stdout",
          "text": [
            "0.9800593698421883\n"
          ]
        }
      ]
    },
    {
      "cell_type": "code",
      "source": [
        "train_score = []\n",
        "test_score = []\n",
        "alpha_list = [0.001, 0.01, 0.1, 1, 10, 100]\n",
        "for alpha in alpha_list:\n",
        "  #라쏘 모델을 만듭니다\n",
        "  lasso = Lasso(alpha=alpha, max_iter=10000) #최적의 계수를 찾기위해 반복적인 계산을 수행\n",
        "  #라쏘 모델을 훈련합니다\n",
        "  lasso.fit(train_scaled, train_target)\n",
        "  #훈련 점수와 테스트 점수를 저장합니다\n",
        "  train_score.append(lasso.score(train_scaled, train_target))\n",
        "  test_score.append(lasso.score(test_scaled, test_target))"
      ],
      "metadata": {
        "colab": {
          "base_uri": "https://localhost:8080/"
        },
        "id": "mOgxAgGwoCip",
        "outputId": "f1e2f764-fe27-4613-e760-59e27c5851dc"
      },
      "execution_count": 24,
      "outputs": [
        {
          "output_type": "stream",
          "name": "stderr",
          "text": [
            "/usr/local/lib/python3.9/dist-packages/sklearn/linear_model/_coordinate_descent.py:631: ConvergenceWarning: Objective did not converge. You might want to increase the number of iterations, check the scale of the features or consider increasing regularisation. Duality gap: 1.878e+04, tolerance: 5.183e+02\n",
            "  model = cd_fast.enet_coordinate_descent(\n",
            "/usr/local/lib/python3.9/dist-packages/sklearn/linear_model/_coordinate_descent.py:631: ConvergenceWarning: Objective did not converge. You might want to increase the number of iterations, check the scale of the features or consider increasing regularisation. Duality gap: 1.297e+04, tolerance: 5.183e+02\n",
            "  model = cd_fast.enet_coordinate_descent(\n"
          ]
        }
      ]
    },
    {
      "cell_type": "code",
      "source": [
        "#그래프 그려보기(x축 로그스케일 사용)\n",
        "plt.plot(np.log10(alpha_list), train_score)\n",
        "plt.plot(np.log10(alpha_list), test_score)\n",
        "plt.show()"
      ],
      "metadata": {
        "colab": {
          "base_uri": "https://localhost:8080/",
          "height": 430
        },
        "id": "7j4NRIVbo0DC",
        "outputId": "d4c143de-1b0b-4fd7-ed00-fc61b6fbf316"
      },
      "execution_count": 25,
      "outputs": [
        {
          "output_type": "display_data",
          "data": {
            "text/plain": [
              "<Figure size 640x480 with 1 Axes>"
            ],
            "image/png": "[encoded data removed]"
          },
          "metadata": {}
        }
      ]
    },
    {
      "cell_type": "code",
      "source": [
        "#최적의 알파값 10 으로 다시 훈련 \n",
        "lasso = Lasso(alpha=10)\n",
        "lasso.fit(train_scaled, train_target)\n",
        "print(lasso.score(train_scaled, train_target))\n",
        "print(lasso.score(test_scaled, test_target))"
      ],
      "metadata": {
        "colab": {
          "base_uri": "https://localhost:8080/"
        },
        "id": "IvWRwpjipISB",
        "outputId": "955c7d13-b44a-4c4a-b54f-f78e8ff98dab"
      },
      "execution_count": 26,
      "outputs": [
        {
          "output_type": "stream",
          "name": "stdout",
          "text": [
            "0.9888067471131867\n",
            "0.9824470598706695\n"
          ]
        }
      ]
    },
    {
      "cell_type": "code",
      "source": [
        "#라쏘 모델의 계수 중 0인것을 세어보기\n",
        "print(np.sum(lasso.coef_ == 0))"
      ],
      "metadata": {
        "colab": {
          "base_uri": "https://localhost:8080/"
        },
        "id": "L18lOxcarMuR",
        "outputId": "8cdc44e4-4759-4df6-ec3e-dc3597b4fac4"
      },
      "execution_count": 27,
      "outputs": [
        {
          "output_type": "stream",
          "name": "stdout",
          "text": [
            "40\n"
          ]
        }
      ]
    },
    {
      "cell_type": "code",
      "source": [
        "print(lasso.coef_)"
      ],
      "metadata": {
        "colab": {
          "base_uri": "https://localhost:8080/"
        },
        "id": "_Ffah8PgG3-Y",
        "outputId": "8b9448f0-7ff6-4341-c230-542937b46c58"
      },
      "execution_count": 45,
      "outputs": [
        {
          "output_type": "stream",
          "name": "stdout",
          "text": [
            "[ 0.          0.          0.         12.14852453 55.44856399 42.23100799\n",
            "  0.          0.         13.70596191  0.         43.2185952   5.7033775\n",
            " 47.46254536  7.42309425 11.85823365  0.          0.         13.53038193\n",
            " 21.22111356  0.          0.          0.          0.          0.\n",
            "  0.         18.66993032  0.          0.          0.         15.81041778\n",
            "  0.          0.          0.          0.          0.          0.\n",
            "  0.          0.          0.          0.          0.          0.\n",
            "  0.          0.         18.14672268  0.          0.          0.\n",
            "  0.         15.51272953  0.          0.          0.          0.\n",
            "  0.        ]\n"
          ]
        }
      ]
    },
    {
      "cell_type": "code",
      "source": [
        "notZero = lasso.coef_[lasso.coef_!= 0]\n",
        "print(notZero)"
      ],
      "metadata": {
        "colab": {
          "base_uri": "https://localhost:8080/"
        },
        "id": "Q6edChQPCgJp",
        "outputId": "ba1956b3-666e-4f12-ef84-28a6c867d314"
      },
      "execution_count": 44,
      "outputs": [
        {
          "output_type": "stream",
          "name": "stdout",
          "text": [
            "[12.14852453 55.44856399 42.23100799 13.70596191 43.2185952   5.7033775\n",
            " 47.46254536  7.42309425 11.85823365 13.53038193 21.22111356 18.66993032\n",
            " 15.81041778 18.14672268 15.51272953]\n"
          ]
        }
      ]
    },
    {
      "cell_type": "markdown",
      "source": [
        "55개 특성을 모델에 주입했지만, 라쏘 모델이 사용한 특성은 55-40 =15개\n",
        "\n",
        "라쏘모델은 유용한 특성을 골라내는 용도로 사용 가능"
      ],
      "metadata": {
        "id": "CnkD-eSo6Xcf"
      }
    }
  ]
}